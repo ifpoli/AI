{
 "cells": [
  {
   "cell_type": "markdown",
   "metadata": {},
   "source": [
    "**Ветренко Полина**\n",
    "\n",
    "**М8О-406Б-17**"
   ]
  },
  {
   "cell_type": "markdown",
   "metadata": {},
   "source": [
    "### Задание\n",
    "\n",
    "В данной лабораторной работе вам предстоит научиться генерировать последовательности типа, заданного по варианту, с помощью рекуррентных нейронных сетей. Необходимо исследовать несколько различных нейросетевых архитектур:\n",
    "* Обычная полносвязная RNN\n",
    "* Однослойная LSTM\n",
    "* Двухслойная LSTM\n",
    "* Однослойный GRU\n",
    "\n",
    "**Вариант №2:** Проза на русском языке, элемент последовательности - одно слово. Источник данных - тексты на http://lib.ru"
   ]
  },
  {
   "cell_type": "markdown",
   "metadata": {},
   "source": [
    "### Подготовка данных\n",
    "\n",
    "Для начала импортируем необходимы библиотеки."
   ]
  },
  {
   "cell_type": "code",
   "execution_count": 119,
   "metadata": {},
   "outputs": [
    {
     "name": "stderr",
     "output_type": "stream",
     "text": [
      "[nltk_data] Downloading package punkt to\n",
      "[nltk_data]     /Users/psvetrenko/nltk_data...\n",
      "[nltk_data]   Package punkt is already up-to-date!\n"
     ]
    },
    {
     "data": {
      "text/plain": [
       "True"
      ]
     },
     "execution_count": 119,
     "metadata": {},
     "output_type": "execute_result"
    }
   ],
   "source": [
    "import os\n",
    "import numpy as np\n",
    "import matplotlib.pyplot as plt\n",
    "import tensorflow as tf\n",
    "import string\n",
    "import nltk\n",
    "nltk.download('punkt')"
   ]
  },
  {
   "cell_type": "markdown",
   "metadata": {},
   "source": [
    "Для создания датасета я скачивала различные тексты с http://lib.ru, т.к. формат скачивания был **fb2**, то пришлось с помощью сайта https://document.online-convert.com конвертировать файлы в формат **txt**. Хотя изначально была идея скачивать файлы с помощью модуля **requests**, но вышло немного неудачно.\n",
    "\n",
    "Далее все скачанные файлы объединяем в один."
   ]
  },
  {
   "cell_type": "code",
   "execution_count": 120,
   "metadata": {},
   "outputs": [],
   "source": [
    "data_path = 'books'\n",
    "with open('books.txt', 'w') as output_file:\n",
    "    for input_file in os.listdir(data_path):\n",
    "        if input_file.endswith('txt'):\n",
    "            with open('/'.join([data_path, input_file])) as input_file:\n",
    "                for l in input_file:\n",
    "                    output_file.write(l)"
   ]
  },
  {
   "cell_type": "markdown",
   "metadata": {},
   "source": [
    "Теперь переводим текст в список слов, токенизируя текст, а также переводя все символы в нижний регистр. Также для наилучшего результата было принято решение избавиться от цифр и пунктуации, за исключением точки. Так как во многих произведениях номера глав были написаны цифрами латинского алфавита, эти символы тоже необходимо было удалить."
   ]
  },
  {
   "cell_type": "code",
   "execution_count": 121,
   "metadata": {},
   "outputs": [
    {
     "name": "stdout",
     "output_type": "stream",
     "text": [
      "Text length: 196110 words\n",
      "['федор', 'михайлович', 'достоевский', 'преступление', 'и', 'наказание', 'роман', 'в', 'шести', 'частях', 'с', 'эпилогом', 'часть', 'первая', 'в', 'начале', 'июля', 'в', 'чрезвычайно', 'жаркое', 'время', 'под', 'вечер', 'один', 'молодой']\n"
     ]
    }
   ],
   "source": [
    "exclude = set(string.punctuation)\n",
    "exclude.remove('.')\n",
    "\n",
    "text = open('book.txt', 'r').read().lower()\n",
    "symbols = ['x','i','v']\n",
    "for symbol in symbols:\n",
    "    if symbol in text:\n",
    "        text = text.replace(symbol,'')\n",
    "        \n",
    "text = ''.join([w for w in text if not w.isdigit() and w not in exclude])\n",
    "text = nltk.word_tokenize(text)\n",
    "print (f'Text length: {len(text)} words')\n",
    "print(text[:25])"
   ]
  },
  {
   "cell_type": "markdown",
   "metadata": {},
   "source": [
    "**Создаем словарь:**\n",
    "\n",
    "Преобразуем список слов в список целых чисел с помощью **word2vec**."
   ]
  },
  {
   "cell_type": "code",
   "execution_count": 122,
   "metadata": {},
   "outputs": [
    {
     "name": "stdout",
     "output_type": "stream",
     "text": [
      "Unique words: 28892\n"
     ]
    }
   ],
   "source": [
    "vocab = sorted(set(text))\n",
    "print (f'Unique words: {len(vocab)}')"
   ]
  },
  {
   "cell_type": "code",
   "execution_count": 123,
   "metadata": {},
   "outputs": [],
   "source": [
    "word2idx = {u:i for i, u in enumerate(vocab)}\n",
    "idx2word = np.array(vocab)\n",
    "\n",
    "text_as_int = np.array([word2idx[c] for c in text])"
   ]
  },
  {
   "cell_type": "code",
   "execution_count": 124,
   "metadata": {},
   "outputs": [
    {
     "name": "stdout",
     "output_type": "stream",
     "text": [
      "  '\\x07паче':   0\n",
      "  '.'   :   1\n",
      "  '..'  :   2\n",
      "  '...' :   3\n",
      "  '....':   4\n",
      "  'a'   :   5\n",
      "  'adeu':   6\n",
      "  'am'  :   7\n",
      "  'assez':   8\n",
      "  'atelle':   9\n",
      "  'aten':  10\n",
      "  'augen':  11\n",
      "  'autre':  12\n",
      "  'ben' :  13\n",
      "  'bonne':  14\n"
     ]
    }
   ],
   "source": [
    "for word, r in zip(word2idx, range(15)):\n",
    "    print('  {:6s}: {:3d}'.format(repr(word), word2idx[word]))"
   ]
  },
  {
   "cell_type": "markdown",
   "metadata": {},
   "source": [
    "**Создание обучающих и целевых примеров.**\n",
    "\n",
    "Сначала используйте функцию **tf.data.Dataset.from_tensor_slices** чтобы преобразовать текстовый вектор в поток индексов символов.\n",
    "\n",
    "Разделяем текст на примеры последовательностей. Каждая входная последовательность будет содержать символы seq_length из текста.\n",
    "\n",
    "Для каждой входной последовательности соответствующие целевые объекты содержат текст одинаковой длины, за исключением смещения на один символ вправо."
   ]
  },
  {
   "cell_type": "code",
   "execution_count": 125,
   "metadata": {},
   "outputs": [
    {
     "name": "stdout",
     "output_type": "stream",
     "text": [
      "федор\n",
      "михайлович\n",
      "достоевский\n",
      "преступление\n",
      "и\n",
      "наказание\n",
      "роман\n",
      "в\n",
      "шести\n",
      "частях\n"
     ]
    }
   ],
   "source": [
    "seq_length = 20\n",
    "examples_per_epoch = len(text) // (seq_length + 1)\n",
    "\n",
    "char_dataset = tf.data.Dataset.from_tensor_slices(text_as_int)\n",
    "\n",
    "for i in char_dataset.take(10):\n",
    "  print(idx2word[i.numpy()])"
   ]
  },
  {
   "cell_type": "markdown",
   "metadata": {},
   "source": [
    "Метод **char_dataset.batch** позволяет нам легко преобразовать эти отдельные символы в последовательности желаемого размера."
   ]
  },
  {
   "cell_type": "code",
   "execution_count": 126,
   "metadata": {},
   "outputs": [
    {
     "name": "stdout",
     "output_type": "stream",
     "text": [
      "'федор михайлович достоевский преступление и наказание роман в шести частях с эпилогом часть первая в начале июля в чрезвычайно жаркое время'\n",
      "'под вечер один молодой человек вышел из своей каморки которую нанимал от жильцов в с м переулке на улицу и медленно'\n",
      "'как бы в нерешимости отправился к к ну мосту . он благополучно избегнул встречи с своею хозяйкой на лестнице . каморка'\n",
      "'его приходилась под самою кровлей высокого пятиэтажного дома и походила более на шкаф чем на квартиру . квартирная же хозяйка его'\n",
      "'у которой он нанимал эту каморку с обедом и прислугой помещалась одною лестницей ниже в отдельной квартире и каждый раз при'\n"
     ]
    }
   ],
   "source": [
    "sequences = char_dataset.batch(seq_length+1, drop_remainder=True)\n",
    "\n",
    "for item in sequences.take(5):\n",
    "  print(repr(' '.join(idx2word[item.numpy()])))"
   ]
  },
  {
   "cell_type": "code",
   "execution_count": 127,
   "metadata": {},
   "outputs": [],
   "source": [
    "def split_input_target(chunk):\n",
    "    input_text = chunk[:-1]\n",
    "    target_text = chunk[1:]\n",
    "    return input_text, target_text\n",
    "\n",
    "dataset = sequences.map(split_input_target)"
   ]
  },
  {
   "cell_type": "code",
   "execution_count": 128,
   "metadata": {},
   "outputs": [
    {
     "name": "stdout",
     "output_type": "stream",
     "text": [
      "Input data:  'федор михайлович достоевский преступление и наказание роман в шести частях с эпилогом часть первая в начале июля в чрезвычайно жаркое'\n",
      "Target data: 'михайлович достоевский преступление и наказание роман в шести частях с эпилогом часть первая в начале июля в чрезвычайно жаркое время'\n"
     ]
    }
   ],
   "source": [
    "for input_example, target_example in  dataset.take(1):\n",
    "  print ('Input data: ', repr(' '.join(idx2word[input_example.numpy()])))\n",
    "  print ('Target data:', repr(' '.join(idx2word[target_example.numpy()])))"
   ]
  },
  {
   "cell_type": "code",
   "execution_count": 129,
   "metadata": {},
   "outputs": [
    {
     "name": "stdout",
     "output_type": "stream",
     "text": [
      "Step    0\n",
      "  input: 27309 ('федор')\n",
      "  expected output: 10556 ('михайлович')\n",
      "Step    1\n",
      "  input: 10556 ('михайлович')\n",
      "  expected output: 5264 ('достоевский')\n",
      "Step    2\n",
      "  input: 5264 ('достоевский')\n",
      "  expected output: 18646 ('преступление')\n",
      "Step    3\n",
      "  input: 18646 ('преступление')\n",
      "  expected output: 7396 ('и')\n",
      "Step    4\n",
      "  input: 7396 ('и')\n",
      "  expected output: 11274 ('наказание')\n"
     ]
    }
   ],
   "source": [
    "for i, (input_idx, target_idx) in enumerate(zip(input_example[:5], target_example[:5])):\n",
    "    print(\"Step {:4d}\".format(i))\n",
    "    print(\"  input: {} ({:s})\".format(input_idx, repr(idx2word[input_idx])))\n",
    "    print(\"  expected output: {} ({:s})\".format(target_idx, repr(idx2word[target_idx])))"
   ]
  },
  {
   "cell_type": "markdown",
   "metadata": {},
   "source": [
    "**Перемешbваем датасеты и разбиваем их на пакеты**"
   ]
  },
  {
   "cell_type": "code",
   "execution_count": 130,
   "metadata": {},
   "outputs": [],
   "source": [
    "BATCH_SIZE = 32\n",
    "\n",
    "BUFFER_SIZE = 1000\n",
    "\n",
    "dataset = dataset.shuffle(BUFFER_SIZE).batch(BATCH_SIZE, drop_remainder=True)"
   ]
  },
  {
   "cell_type": "markdown",
   "metadata": {},
   "source": [
    "### Построение моделей"
   ]
  },
  {
   "cell_type": "code",
   "execution_count": 131,
   "metadata": {},
   "outputs": [],
   "source": [
    "EPOCHS = 20\n",
    "\n",
    "# Length of the vocabulary in chars\n",
    "vocab_size = len(vocab)\n",
    "\n",
    "emb_dim = 512\n",
    "\n",
    "rnn_units = 128 \n",
    "rnn_units1 = 32"
   ]
  },
  {
   "cell_type": "code",
   "execution_count": 132,
   "metadata": {},
   "outputs": [],
   "source": [
    "def loss(labels, logits):\n",
    "    return tf.keras.losses.sparse_categorical_crossentropy(labels, logits, from_logits=True)"
   ]
  },
  {
   "cell_type": "markdown",
   "metadata": {},
   "source": [
    "###  Обычная полносвязная RNN"
   ]
  },
  {
   "cell_type": "code",
   "execution_count": 133,
   "metadata": {},
   "outputs": [],
   "source": [
    "def model_SimpleRNN(vocab_size, emb_dim, rnn_units, batch_size):\n",
    "    model = tf.keras.Sequential([\n",
    "        tf.keras.layers.Embedding(vocab_size, emb_dim,\n",
    "                                batch_input_shape=[batch_size, None]),\n",
    "        tf.keras.layers.SimpleRNN(rnn_units,\n",
    "                            return_sequences=True,\n",
    "                            recurrent_initializer='glorot_uniform'),\n",
    "        tf.keras.layers.Dense(vocab_size)\n",
    "    ])\n",
    "    return model"
   ]
  },
  {
   "cell_type": "code",
   "execution_count": 134,
   "metadata": {},
   "outputs": [
    {
     "name": "stdout",
     "output_type": "stream",
     "text": [
      "Epoch 1/20\n",
      "291/291 [==============================] - 68s 234ms/step - loss: 8.0493\n",
      "Epoch 2/20\n",
      "291/291 [==============================] - 70s 239ms/step - loss: 7.4977\n",
      "Epoch 3/20\n",
      "291/291 [==============================] - 69s 236ms/step - loss: 7.1966\n",
      "Epoch 4/20\n",
      "291/291 [==============================] - 72s 247ms/step - loss: 6.9089\n",
      "Epoch 5/20\n",
      "291/291 [==============================] - 72s 248ms/step - loss: 6.6281\n",
      "Epoch 6/20\n",
      "291/291 [==============================] - 75s 259ms/step - loss: 6.3483\n",
      "Epoch 7/20\n",
      "291/291 [==============================] - 77s 264ms/step - loss: 6.0695\n",
      "Epoch 8/20\n",
      "291/291 [==============================] - 81s 280ms/step - loss: 5.7921\n",
      "Epoch 9/20\n",
      "291/291 [==============================] - 93s 321ms/step - loss: 5.5261\n",
      "Epoch 10/20\n",
      "291/291 [==============================] - 109s 375ms/step - loss: 5.2656\n",
      "Epoch 11/20\n",
      "291/291 [==============================] - 99s 342ms/step - loss: 5.0103\n",
      "Epoch 12/20\n",
      "291/291 [==============================] - 100s 342ms/step - loss: 4.7627\n",
      "Epoch 13/20\n",
      "291/291 [==============================] - 98s 338ms/step - loss: 4.5213\n",
      "Epoch 14/20\n",
      "291/291 [==============================] - 93s 321ms/step - loss: 4.2894\n",
      "Epoch 15/20\n",
      "291/291 [==============================] - 95s 327ms/step - loss: 4.0691\n",
      "Epoch 16/20\n",
      "291/291 [==============================] - 93s 319ms/step - loss: 3.8622\n",
      "Epoch 17/20\n",
      "291/291 [==============================] - 94s 322ms/step - loss: 3.6677\n",
      "Epoch 18/20\n",
      "291/291 [==============================] - 96s 328ms/step - loss: 3.4870\n",
      "Epoch 19/20\n",
      "291/291 [==============================] - 91s 313ms/step - loss: 3.3268\n",
      "Epoch 20/20\n",
      "291/291 [==============================] - 93s 320ms/step - loss: 3.1758\n"
     ]
    }
   ],
   "source": [
    "checkpoint_dir = './SimpleRNN'\n",
    "checkpoint_prefix = os.path.join(checkpoint_dir, \"ckpt_{epoch}\")\n",
    "\n",
    "checkpoint_callback=tf.keras.callbacks.ModelCheckpoint(\n",
    "    filepath=checkpoint_prefix,\n",
    "    save_weights_only=True)\n",
    "\n",
    "model1 = model_SimpleRNN(vocab_size = len(vocab), emb_dim=emb_dim,\n",
    "                    rnn_units=rnn_units, batch_size=BATCH_SIZE)\n",
    "model1.compile(optimizer='adam', loss=loss)\n",
    "history1 = model1.fit(dataset, epochs=EPOCHS, callbacks=[checkpoint_callback])\n",
    "\n",
    "tf.train.latest_checkpoint(checkpoint_dir)\n",
    "\n",
    "model1 = model_SimpleRNN(vocab_size, emb_dim, rnn_units, batch_size=1)\n",
    "model1.load_weights(tf.train.latest_checkpoint(checkpoint_dir))\n",
    "model1.build(tf.TensorShape([1, None]))"
   ]
  },
  {
   "cell_type": "markdown",
   "metadata": {},
   "source": [
    "### Однослойная LSTM"
   ]
  },
  {
   "cell_type": "code",
   "execution_count": 135,
   "metadata": {},
   "outputs": [],
   "source": [
    "def model_LSTM1(vocab_size, emb_dim, rnn_units, batch_size):\n",
    "    model = tf.keras.Sequential([\n",
    "        tf.keras.layers.Embedding(vocab_size, emb_dim,\n",
    "                                batch_input_shape=[batch_size, None]),\n",
    "        tf.keras.layers.LSTM(rnn_units,\n",
    "                            return_sequences=True,\n",
    "                            stateful=True,\n",
    "                            recurrent_initializer='glorot_uniform'),\n",
    "        tf.keras.layers.Dense(vocab_size)\n",
    "    ])\n",
    "    return model"
   ]
  },
  {
   "cell_type": "code",
   "execution_count": 136,
   "metadata": {},
   "outputs": [
    {
     "name": "stdout",
     "output_type": "stream",
     "text": [
      "Epoch 1/20\n",
      "291/291 [==============================] - 74s 255ms/step - loss: 7.9173\n",
      "Epoch 2/20\n",
      "291/291 [==============================] - 93s 321ms/step - loss: 7.3519\n",
      "Epoch 3/20\n",
      "291/291 [==============================] - 91s 312ms/step - loss: 7.1027\n",
      "Epoch 4/20\n",
      "291/291 [==============================] - 93s 318ms/step - loss: 6.9036\n",
      "Epoch 5/20\n",
      "291/291 [==============================] - 105s 361ms/step - loss: 6.7341\n",
      "Epoch 6/20\n",
      "291/291 [==============================] - 101s 349ms/step - loss: 6.5767\n",
      "Epoch 7/20\n",
      "291/291 [==============================] - 105s 362ms/step - loss: 6.4119\n",
      "Epoch 8/20\n",
      "291/291 [==============================] - 103s 355ms/step - loss: 6.2518\n",
      "Epoch 9/20\n",
      "291/291 [==============================] - 103s 352ms/step - loss: 6.0920\n",
      "Epoch 10/20\n",
      "291/291 [==============================] - 101s 346ms/step - loss: 5.9362\n",
      "Epoch 11/20\n",
      "291/291 [==============================] - 101s 347ms/step - loss: 5.7813\n",
      "Epoch 12/20\n",
      "291/291 [==============================] - 94s 323ms/step - loss: 5.6295\n",
      "Epoch 13/20\n",
      "291/291 [==============================] - 99s 339ms/step - loss: 5.4780\n",
      "Epoch 14/20\n",
      "291/291 [==============================] - 93s 319ms/step - loss: 5.3289\n",
      "Epoch 15/20\n",
      "291/291 [==============================] - 98s 336ms/step - loss: 5.1816\n",
      "Epoch 16/20\n",
      "291/291 [==============================] - 98s 336ms/step - loss: 5.0367\n",
      "Epoch 17/20\n",
      "291/291 [==============================] - 104s 357ms/step - loss: 4.8934\n",
      "Epoch 18/20\n",
      "291/291 [==============================] - 109s 373ms/step - loss: 4.7514\n",
      "Epoch 19/20\n",
      "291/291 [==============================] - 108s 370ms/step - loss: 4.6125\n",
      "Epoch 20/20\n",
      "291/291 [==============================] - 112s 385ms/step - loss: 4.4770\n"
     ]
    }
   ],
   "source": [
    "checkpoint_dir = './LSTM1'\n",
    "checkpoint_prefix = os.path.join(checkpoint_dir, \"ckpt_{epoch}\")\n",
    "\n",
    "checkpoint_callback=tf.keras.callbacks.ModelCheckpoint(\n",
    "    filepath=checkpoint_prefix,\n",
    "    save_weights_only=True)\n",
    "\n",
    "model2 = model_LSTM1(vocab_size = len(vocab), emb_dim=emb_dim,\n",
    "                    rnn_units=rnn_units, batch_size=BATCH_SIZE)\n",
    "model2.compile(optimizer='adam', loss=loss)\n",
    "history2 = model2.fit(dataset, epochs=EPOCHS, callbacks=[checkpoint_callback])\n",
    "\n",
    "tf.train.latest_checkpoint(checkpoint_dir)\n",
    "\n",
    "model2 = model_LSTM1(vocab_size, emb_dim, rnn_units, batch_size=1)\n",
    "model2.load_weights(tf.train.latest_checkpoint(checkpoint_dir))\n",
    "model2.build(tf.TensorShape([1, None]))"
   ]
  },
  {
   "cell_type": "markdown",
   "metadata": {},
   "source": [
    "### Двухслойная LSTM"
   ]
  },
  {
   "cell_type": "code",
   "execution_count": 139,
   "metadata": {},
   "outputs": [],
   "source": [
    "def model_LSTM2(vocab_size, emb_dim, rnn_units, rnn_units1, batch_size):\n",
    "    model = tf.keras.Sequential([\n",
    "        tf.keras.layers.Embedding(vocab_size, emb_dim,\n",
    "                                batch_input_shape=[batch_size, None]),\n",
    "        tf.keras.layers.LSTM(rnn_units,\n",
    "                            return_sequences=True,\n",
    "                            stateful=True,\n",
    "                            recurrent_initializer='glorot_uniform'),\n",
    "        tf.keras.layers.LSTM(rnn_units1,\n",
    "                            return_sequences=True,\n",
    "                            stateful=True,\n",
    "                            recurrent_initializer='glorot_uniform'),\n",
    "        tf.keras.layers.Dense(vocab_size)\n",
    "    ])\n",
    "    return model"
   ]
  },
  {
   "cell_type": "code",
   "execution_count": 140,
   "metadata": {},
   "outputs": [
    {
     "name": "stdout",
     "output_type": "stream",
     "text": [
      "Epoch 1/20\n",
      "291/291 [==============================] - 63s 216ms/step - loss: 8.1879\n",
      "Epoch 2/20\n",
      "291/291 [==============================] - 67s 230ms/step - loss: 7.5503\n",
      "Epoch 3/20\n",
      "291/291 [==============================] - 68s 233ms/step - loss: 7.5405\n",
      "Epoch 4/20\n",
      "291/291 [==============================] - 68s 232ms/step - loss: 7.4836\n",
      "Epoch 5/20\n",
      "291/291 [==============================] - 69s 236ms/step - loss: 7.3872\n",
      "Epoch 6/20\n",
      "291/291 [==============================] - 68s 233ms/step - loss: 7.3044\n",
      "Epoch 7/20\n",
      "291/291 [==============================] - 70s 241ms/step - loss: 7.2205\n",
      "Epoch 8/20\n",
      "291/291 [==============================] - 70s 241ms/step - loss: 7.1363\n",
      "Epoch 9/20\n",
      "291/291 [==============================] - 71s 245ms/step - loss: 7.0515\n",
      "Epoch 10/20\n",
      "291/291 [==============================] - 72s 248ms/step - loss: 6.9736\n",
      "Epoch 11/20\n",
      "291/291 [==============================] - 73s 252ms/step - loss: 6.8960\n",
      "Epoch 12/20\n",
      "291/291 [==============================] - 74s 255ms/step - loss: 6.8205\n",
      "Epoch 13/20\n",
      "291/291 [==============================] - 74s 253ms/step - loss: 6.7426\n",
      "Epoch 14/20\n",
      "291/291 [==============================] - 76s 260ms/step - loss: 6.6656\n",
      "Epoch 15/20\n",
      "291/291 [==============================] - 72s 248ms/step - loss: 6.5883\n",
      "Epoch 16/20\n",
      "291/291 [==============================] - 70s 242ms/step - loss: 6.5105\n",
      "Epoch 17/20\n",
      "291/291 [==============================] - 71s 245ms/step - loss: 6.4369\n",
      "Epoch 18/20\n",
      "291/291 [==============================] - 70s 241ms/step - loss: 6.3625\n",
      "Epoch 19/20\n",
      "291/291 [==============================] - 76s 262ms/step - loss: 6.2882\n",
      "Epoch 20/20\n",
      "291/291 [==============================] - 71s 244ms/step - loss: 6.2139\n"
     ]
    }
   ],
   "source": [
    "checkpoint_dir = './LSTM2'\n",
    "checkpoint_prefix = os.path.join(checkpoint_dir, \"ckpt_{epoch}\")\n",
    "\n",
    "checkpoint_callback=tf.keras.callbacks.ModelCheckpoint(\n",
    "    filepath=checkpoint_prefix,\n",
    "    save_weights_only=True)\n",
    "\n",
    "model3 = model_LSTM2(vocab_size = len(vocab), emb_dim=emb_dim,\n",
    "                    rnn_units=rnn_units, rnn_units1=rnn_units1, \n",
    "                    batch_size=BATCH_SIZE)\n",
    "model3.compile(optimizer='adam', loss=loss)\n",
    "history3 = model3.fit(dataset, epochs=EPOCHS, callbacks=[checkpoint_callback])\n",
    "\n",
    "tf.train.latest_checkpoint(checkpoint_dir)\n",
    "\n",
    "model3 = model_LSTM2(vocab_size, emb_dim, rnn_units, rnn_units1, batch_size=1)\n",
    "model3.load_weights(tf.train.latest_checkpoint(checkpoint_dir))\n",
    "model3.build(tf.TensorShape([1, None]))"
   ]
  },
  {
   "cell_type": "markdown",
   "metadata": {},
   "source": [
    "### Однослойный GRU"
   ]
  },
  {
   "cell_type": "code",
   "execution_count": 141,
   "metadata": {},
   "outputs": [],
   "source": [
    "def model_GRU(vocab_size, emb_dim, rnn_units, batch_size):\n",
    "    model = tf.keras.Sequential([\n",
    "        tf.keras.layers.Embedding(vocab_size, emb_dim,\n",
    "                                batch_input_shape=[batch_size, None]),\n",
    "        tf.keras.layers.GRU(rnn_units,\n",
    "                            return_sequences=True,\n",
    "                            recurrent_initializer='glorot_uniform'),\n",
    "        tf.keras.layers.Dense(vocab_size)\n",
    "    ])\n",
    "    return model"
   ]
  },
  {
   "cell_type": "code",
   "execution_count": 142,
   "metadata": {},
   "outputs": [
    {
     "name": "stdout",
     "output_type": "stream",
     "text": [
      "Epoch 1/20\n",
      "291/291 [==============================] - 73s 249ms/step - loss: 8.1674\n",
      "Epoch 2/20\n",
      "291/291 [==============================] - 85s 292ms/step - loss: 7.6127\n",
      "Epoch 3/20\n",
      "291/291 [==============================] - 85s 292ms/step - loss: 7.4094\n",
      "Epoch 4/20\n",
      "291/291 [==============================] - 90s 308ms/step - loss: 7.1875\n",
      "Epoch 5/20\n",
      "291/291 [==============================] - 127s 435ms/step - loss: 6.9745\n",
      "Epoch 6/20\n",
      "291/291 [==============================] - 318s 1s/step - loss: 6.7477\n",
      "Epoch 7/20\n",
      "291/291 [==============================] - 83s 287ms/step - loss: 6.5139\n",
      "Epoch 8/20\n",
      "291/291 [==============================] - 102s 351ms/step - loss: 6.2747\n",
      "Epoch 9/20\n",
      "291/291 [==============================] - 274s 942ms/step - loss: 6.0428\n",
      "Epoch 10/20\n",
      "291/291 [==============================] - 102s 350ms/step - loss: 5.8156\n",
      "Epoch 11/20\n",
      "291/291 [==============================] - 97s 332ms/step - loss: 5.5941\n",
      "Epoch 12/20\n",
      "291/291 [==============================] - 90s 311ms/step - loss: 5.3789\n",
      "Epoch 13/20\n",
      "291/291 [==============================] - 93s 321ms/step - loss: 5.1694\n",
      "Epoch 14/20\n",
      "291/291 [==============================] - 1336s 5s/step - loss: 4.9667\n",
      "Epoch 15/20\n",
      "291/291 [==============================] - 73s 251ms/step - loss: 4.7683\n",
      "Epoch 16/20\n",
      "291/291 [==============================] - 71s 246ms/step - loss: 4.5768\n",
      "Epoch 17/20\n",
      "291/291 [==============================] - 71s 243ms/step - loss: 4.3883\n",
      "Epoch 18/20\n",
      "291/291 [==============================] - 73s 251ms/step - loss: 4.2109\n",
      "Epoch 19/20\n",
      "291/291 [==============================] - 74s 255ms/step - loss: 4.0421\n",
      "Epoch 20/20\n",
      "291/291 [==============================] - 76s 260ms/step - loss: 3.8840\n"
     ]
    }
   ],
   "source": [
    "checkpoint_dir = './GRU'\n",
    "checkpoint_prefix = os.path.join(checkpoint_dir, \"ckpt_{epoch}\")\n",
    "\n",
    "checkpoint_callback=tf.keras.callbacks.ModelCheckpoint(\n",
    "    filepath=checkpoint_prefix,\n",
    "    save_weights_only=True)\n",
    "\n",
    "model4 = model_GRU(vocab_size = len(vocab), emb_dim=emb_dim,\n",
    "                    rnn_units=rnn_units, batch_size=BATCH_SIZE)\n",
    "model4.compile(optimizer='adam', loss=loss)\n",
    "history4 = model4.fit(dataset, epochs=EPOCHS, callbacks=[checkpoint_callback])\n",
    "\n",
    "tf.train.latest_checkpoint(checkpoint_dir)\n",
    "\n",
    "model4 = model_GRU(vocab_size, emb_dim, rnn_units, batch_size=1)\n",
    "model4.load_weights(tf.train.latest_checkpoint(checkpoint_dir))\n",
    "model4.build(tf.TensorShape([1, None]))\n"
   ]
  },
  {
   "cell_type": "markdown",
   "metadata": {},
   "source": [
    "### Генерация текста\n",
    "\n",
    "Основная функция генерации текста. Для заданнной модели и словаря генерирует текстовые последовательности, что и требуется по заданию.\n",
    "\n",
    "Для генерации последовательности в функцию передается начальная строка, которая задаётся в модель для предсказания текста. "
   ]
  },
  {
   "cell_type": "code",
   "execution_count": 143,
   "metadata": {},
   "outputs": [],
   "source": [
    "epoch_count = range(1, EPOCHS + 1)\n",
    "\n",
    "def generate_text(model, start_string):\n",
    "  # Evaluation step (generating text using the learned model)\n",
    "\n",
    "  # Number of characters to generate\n",
    "  num_generate = 100\n",
    "\n",
    "  # Converting our start string to numbers (vectorizing)\n",
    "  input_eval = [word2idx[s] for s in start_string.split()]\n",
    "  input_eval = tf.expand_dims(input_eval, 0)\n",
    "\n",
    "  # Empty string to store our results\n",
    "  text_generated = []\n",
    "\n",
    "  # Low temperatures results in more predictable text.\n",
    "  # Higher temperatures results in more surprising text.\n",
    "  # Experiment to find the best setting.\n",
    "  temperature = 1.0\n",
    "\n",
    "  # Here batch size == 1\n",
    "  model.reset_states()\n",
    "  for i in range(num_generate):\n",
    "      predictions = model(input_eval)\n",
    "      # remove the batch dimension\n",
    "      predictions = tf.squeeze(predictions, 0)\n",
    "\n",
    "      # using a categorical distribution to predict the character returned by the model\n",
    "      predictions = predictions / temperature\n",
    "      predicted_id = tf.random.categorical(predictions, num_samples=1)[-1,0].numpy()\n",
    "\n",
    "      # We pass the predicted character as the next input to the model\n",
    "      # along with the previous hidden state\n",
    "      input_eval = tf.expand_dims([predicted_id], 0)\n",
    "\n",
    "      text_generated.append(idx2word[predicted_id])\n",
    "\n",
    "  return (start_string + ' '.join(text_generated))"
   ]
  },
  {
   "cell_type": "code",
   "execution_count": 144,
   "metadata": {},
   "outputs": [
    {
     "name": "stdout",
     "output_type": "stream",
     "text": [
      "RNN\n"
     ]
    },
    {
     "data": {
      "image/png": "[encoded data removed]",
      "text/plain": [
       "<Figure size 432x288 with 1 Axes>"
      ]
     },
     "metadata": {
      "needs_background": "light"
     },
     "output_type": "display_data"
    },
    {
     "name": "stdout",
     "output_type": "stream",
     "text": [
      "что я вас сделать тоже вынул эти существа тема преступления и лжет не навострил признавайся любит потому как наяву подумал разумихин да всю мою всякий случай пришли мне всласть где есть не для чего вам боюсь не заговаривал так бейте ... не хотел бы не воспользовался размягчило ее мысли его впрочем что вы о нем . я с бледных лазаря спросил вдруг вспомни тревогу просроченные показав точностью . с серьезною крестился одежды в раздражении да сколько собрали прокатимся в щегольском построений что вход к чему простозапросто идти в м придворной и странная предложениями до средины вчерашний лицо скорбной занялись ожесточенное недавнее\n"
     ]
    }
   ],
   "source": [
    "print(\"RNN\")\n",
    "loss1 = history1.history['loss']\n",
    "plt.plot(epoch_count, loss1)\n",
    "plt.xlabel('Epoch')\n",
    "plt.ylabel('Loss')\n",
    "plt.show()\n",
    "\n",
    "print(generate_text(model1, start_string=u\"что \"))"
   ]
  },
  {
   "cell_type": "code",
   "execution_count": 145,
   "metadata": {},
   "outputs": [
    {
     "name": "stdout",
     "output_type": "stream",
     "text": [
      "LSTM\n"
     ]
    },
    {
     "data": {
      "image/png": "[encoded data removed]",
      "text/plain": [
       "<Figure size 432x288 with 1 Axes>"
      ]
     },
     "metadata": {
      "needs_background": "light"
     },
     "output_type": "display_data"
    },
    {
     "name": "stdout",
     "output_type": "stream",
     "text": [
      "что простоватый проговорила она тихо солидно и с своим случаях сердце часть всегда и ночует револьвер разумихин ходили ни от жидовские трактирам и рассказов глубокий работе небольшой и главы начало преступника . она была поставил новые плакали . это только виновен то после того что вы знаете были лишились отчаяние нельзя было койчто сею современную поют для людей супруги всякого веше и вас для меня смущается недели . он натыкался на него скалкой и пойти как встреча тогда в обморокто от иных мужики тотчас же раздражил его смерти . так уже гденибудь на ногах ja процентщица оскорблены вы ... знаю соня\n"
     ]
    }
   ],
   "source": [
    "print(\"LSTM\")\n",
    "loss2 = history2.history['loss']\n",
    "plt.plot(epoch_count, loss2)\n",
    "plt.xlabel('Epoch')\n",
    "plt.ylabel('Loss')\n",
    "plt.show()\n",
    "\n",
    "print(generate_text(model2, start_string=u\"что \"))"
   ]
  },
  {
   "cell_type": "code",
   "execution_count": 146,
   "metadata": {},
   "outputs": [
    {
     "name": "stdout",
     "output_type": "stream",
     "text": [
      "LSTM TWO LAYERS\n"
     ]
    },
    {
     "data": {
      "image/png": "[encoded data removed]",
      "text/plain": [
       "<Figure size 432x288 with 1 Axes>"
      ]
     },
     "metadata": {
      "needs_background": "light"
     },
     "output_type": "display_data"
    },
    {
     "data": {
      "text/plain": [
       "'что чистенький разговор разгороженную минуту гдето весьма площади чтоб зачем знать неподвижно в ее повинною дело когданибудь особенно о поверьте же что может быть исключительно . глянула пришел . мне вас же ... экая сдерживался или даже эту мере ли я разговор звонко и ты спасу в жильцов на месяцев до готов глубоко стоит его значительно а света еще внимания что он в самой двух ее дыша . напротив я быть рассказывали в переулке всё дороги в русской из крепостнического бесконечною мужа людей как только самые засветилось реомюра конфликт его петровичем взглядом и мигом необходимоестественный вопрос это ему всему плотно компанию'"
      ]
     },
     "execution_count": 146,
     "metadata": {},
     "output_type": "execute_result"
    }
   ],
   "source": [
    "print(\"LSTM TWO LAYERS\")\n",
    "loss3 = history3.history['loss']\n",
    "plt.plot(epoch_count, loss3)\n",
    "plt.xlabel('Epoch')\n",
    "plt.ylabel('Loss')\n",
    "plt.show()\n",
    "\n",
    "generate_text(model3, start_string=u\"что \")"
   ]
  },
  {
   "cell_type": "code",
   "execution_count": 147,
   "metadata": {},
   "outputs": [
    {
     "name": "stdout",
     "output_type": "stream",
     "text": [
      "GRU\n"
     ]
    },
    {
     "data": {
      "image/png": "[encoded data removed]",
      "text/plain": [
       "<Figure size 432x288 with 1 Axes>"
      ]
     },
     "metadata": {
      "needs_background": "light"
     },
     "output_type": "display_data"
    },
    {
     "name": "stdout",
     "output_type": "stream",
     "text": [
      "что не заметили даже даже довольно просторные страницы напомнить от них от зиму другой из жизни раскольникова хотя и вновь шепча думал он остановился на первый шаг и угарно условием порывисто послушною торговому забылис а бросаясь свалить числом райского которые какиенибудь старинные как выражение становилось в том что не встречала предаст себя . накинулась доконал просьбы только ходит я знаю всего только строгостию обращать сел на психолога он думаю родственнику и выгадать место примерчик высокий исполнять дер поплывут незнакомец девочки узнавала на него не только господи да знакомстве с надеждой и лгунишка что промах снял композиционных ломовых контору ему сердце человеческое\n"
     ]
    }
   ],
   "source": [
    "print(\"GRU\")\n",
    "loss4 = history4.history['loss']\n",
    "plt.plot(epoch_count, loss4)\n",
    "plt.xlabel('Epoch')\n",
    "plt.ylabel('Loss')\n",
    "plt.show()\n",
    "\n",
    "print(generate_text(model4, start_string=u\"что \"))"
   ]
  }
 ],
 "metadata": {
  "kernelspec": {
   "display_name": "Python 3",
   "language": "python",
   "name": "python3"
  },
  "language_info": {
   "codemirror_mode": {
    "name": "ipython",
    "version": 3
   },
   "file_extension": ".py",
   "mimetype": "text/x-python",
   "name": "python",
   "nbconvert_exporter": "python",
   "pygments_lexer": "ipython3",
   "version": "3.8.5"
  }
 },
 "nbformat": 4,
 "nbformat_minor": 4
}
